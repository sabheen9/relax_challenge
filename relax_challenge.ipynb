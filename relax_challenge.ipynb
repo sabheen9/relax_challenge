{
 "cells": [
  {
   "cell_type": "markdown",
   "metadata": {},
   "source": [
    "## Relax Inc. Take-Home Challenge"
   ]
  },
  {
   "cell_type": "markdown",
   "metadata": {},
   "source": [
    "Thhe  data  is  available  as  two  attached  CSV  files:\n",
    "\n",
    "takehome_user_engagement. csv\n",
    "\n",
    "takehome_users . csv\n",
    "\n",
    "The  data  has  the  following  two  tables:\n",
    "\n",
    "1]  A  user  table  ( \"takehome_users\" )  with  data  on  12,000  users  who  signed  up  for  the product  in  the  last  two  years.   This  table  includes:\n",
    "\n",
    "● name:  the  user's  name\n",
    "\n",
    "● object_id:   the  user's  id\n",
    "\n",
    "● email:  email  address\n",
    "\n",
    "● creation_source:   how  their  account  was  created.  This  takes  on  one of  5  values:\n",
    "\n",
    "    ○ PERSONAL_PROJECTS:  invited  to  join  another  user's personal  workspace\n",
    "\n",
    "    ○ GUEST_INVITE:  invited  to  an  organization  as  a  guest (limited  permissions)\n",
    "\n",
    "    ○ ORG_INVITE:  invited  to  an  organization  (as  a  full  member)\n",
    "\n",
    "    ○ SIGNUP:  signed  up  via  the  website\n",
    "\n",
    "    ○ SIGNUP_GOOGLE_AUTH:  signed  up  using  Google Authentication  (using  a  Google  email  account  for  their  login id)\n",
    "\n",
    "● creation_time:  when  they  created  their  account\n",
    "\n",
    "● last_session_creation_time:   unix  timestamp  of  last  login\n",
    "\n",
    "● opted_in_to_mailing_list:  whether  they  have  opted  into  receiving marketing  emails\n",
    "\n",
    "● enabled_for_marketing_drip:  whether  they  are  on  the  regular marketing  email  drip\n",
    "\n",
    "● org_id:   the  organization  (group  of  users)  they  belong  to\n",
    "\n",
    "● invited_by_user_id:   which  user  invited  them  to  join  (if  applicable).\n",
    "\n",
    "2]  A  usage  summary  table  ( \"takehome_user_engagement\" )  that  has  a  row  for  each  day that  a  user  logged  into  the  product. Defining  an  \"adopted  user\"   as  a  user  who   has  logged  into  the  product  on  three  separate days  in  at  least  one  seven­day  period ,  identify  which  factors  predict  future  user adoption ."
   ]
  },
  {
   "cell_type": "code",
   "execution_count": null,
   "metadata": {},
   "outputs": [],
   "source": []
  }
 ],
 "metadata": {
  "language_info": {
   "name": "python"
  }
 },
 "nbformat": 4,
 "nbformat_minor": 2
}
